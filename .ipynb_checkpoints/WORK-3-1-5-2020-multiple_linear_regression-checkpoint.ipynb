{
 "cells": [
  {
   "cell_type": "code",
   "execution_count": 1,
   "metadata": {},
   "outputs": [],
   "source": [
    "%matplotlib inline\n",
    "import matplotlib.pyplot as plt\n",
    "import numpy as np\n",
    "import pandas as pd"
   ]
  },
  {
   "cell_type": "code",
   "execution_count": 3,
   "metadata": {},
   "outputs": [
    {
     "data": {
      "text/html": [
       "<div>\n",
       "<style scoped>\n",
       "    .dataframe tbody tr th:only-of-type {\n",
       "        vertical-align: middle;\n",
       "    }\n",
       "\n",
       "    .dataframe tbody tr th {\n",
       "        vertical-align: top;\n",
       "    }\n",
       "\n",
       "    .dataframe thead th {\n",
       "        text-align: right;\n",
       "    }\n",
       "</style>\n",
       "<table border=\"1\" class=\"dataframe\">\n",
       "  <thead>\n",
       "    <tr style=\"text-align: right;\">\n",
       "      <th></th>\n",
       "      <th>Region</th>\n",
       "      <th>Year</th>\n",
       "      <th>Number of deaths</th>\n",
       "      <th>Lifetime risk of maternal death (%)</th>\n",
       "      <th>Maternal mortality ratio (deaths per 100,000 live births)</th>\n",
       "      <th>Domestic private health expenditure (% of current health expenditure)</th>\n",
       "      <th>Domestic general government health expenditure (% of GDP)</th>\n",
       "      <th>GDP per capita (international-$)</th>\n",
       "    </tr>\n",
       "  </thead>\n",
       "  <tbody>\n",
       "    <tr>\n",
       "      <th>0</th>\n",
       "      <td>East Asia &amp; Pacific</td>\n",
       "      <td>2000</td>\n",
       "      <td>34000</td>\n",
       "      <td>0.21</td>\n",
       "      <td>113</td>\n",
       "      <td>29.52</td>\n",
       "      <td>4.34</td>\n",
       "      <td>7178.89</td>\n",
       "    </tr>\n",
       "    <tr>\n",
       "      <th>1</th>\n",
       "      <td>Europe &amp; Central Asia</td>\n",
       "      <td>2000</td>\n",
       "      <td>3400</td>\n",
       "      <td>0.05</td>\n",
       "      <td>33</td>\n",
       "      <td>24.49</td>\n",
       "      <td>5.88</td>\n",
       "      <td>22220.70</td>\n",
       "    </tr>\n",
       "    <tr>\n",
       "      <th>2</th>\n",
       "      <td>Latin America &amp; Caribbean</td>\n",
       "      <td>2000</td>\n",
       "      <td>12000</td>\n",
       "      <td>0.29</td>\n",
       "      <td>99</td>\n",
       "      <td>56.91</td>\n",
       "      <td>2.53</td>\n",
       "      <td>11458.67</td>\n",
       "    </tr>\n",
       "    <tr>\n",
       "      <th>3</th>\n",
       "      <td>Middle East &amp; North Africa</td>\n",
       "      <td>2000</td>\n",
       "      <td>8700</td>\n",
       "      <td>0.38</td>\n",
       "      <td>113</td>\n",
       "      <td>44.46</td>\n",
       "      <td>2.48</td>\n",
       "      <td>13554.73</td>\n",
       "    </tr>\n",
       "    <tr>\n",
       "      <th>4</th>\n",
       "      <td>North America</td>\n",
       "      <td>2000</td>\n",
       "      <td>510</td>\n",
       "      <td>0.02</td>\n",
       "      <td>12</td>\n",
       "      <td>54.50</td>\n",
       "      <td>5.56</td>\n",
       "      <td>45146.13</td>\n",
       "    </tr>\n",
       "  </tbody>\n",
       "</table>\n",
       "</div>"
      ],
      "text/plain": [
       "                       Region  Year  Number of deaths  \\\n",
       "0         East Asia & Pacific  2000             34000   \n",
       "1       Europe & Central Asia  2000              3400   \n",
       "2   Latin America & Caribbean  2000             12000   \n",
       "3  Middle East & North Africa  2000              8700   \n",
       "4               North America  2000               510   \n",
       "\n",
       "   Lifetime risk of maternal death (%)  \\\n",
       "0                                 0.21   \n",
       "1                                 0.05   \n",
       "2                                 0.29   \n",
       "3                                 0.38   \n",
       "4                                 0.02   \n",
       "\n",
       "   Maternal mortality ratio (deaths per 100,000 live births)  \\\n",
       "0                                                113           \n",
       "1                                                 33           \n",
       "2                                                 99           \n",
       "3                                                113           \n",
       "4                                                 12           \n",
       "\n",
       "   Domestic private health expenditure (% of current health expenditure)  \\\n",
       "0                                              29.52                       \n",
       "1                                              24.49                       \n",
       "2                                              56.91                       \n",
       "3                                              44.46                       \n",
       "4                                              54.50                       \n",
       "\n",
       "   Domestic general government health expenditure (% of GDP)  \\\n",
       "0                                               4.34           \n",
       "1                                               5.88           \n",
       "2                                               2.53           \n",
       "3                                               2.48           \n",
       "4                                               5.56           \n",
       "\n",
       "   GDP per capita (international-$)  \n",
       "0                           7178.89  \n",
       "1                          22220.70  \n",
       "2                          11458.67  \n",
       "3                          13554.73  \n",
       "4                          45146.13  "
      ]
     },
     "execution_count": 3,
     "metadata": {},
     "output_type": "execute_result"
    }
   ],
   "source": [
    "# Read the csv file into a pandas DataFrame\n",
    "\n",
    "Final_Dataset = pd.read_csv('Final_Dataset.csv')\n",
    "Final_Dataset.head()"
   ]
  },
  {
   "cell_type": "code",
   "execution_count": 23,
   "metadata": {},
   "outputs": [
    {
     "name": "stdout",
     "output_type": "stream",
     "text": [
      "(182, 2) (182, 1)\n"
     ]
    }
   ],
   "source": [
    "# Assign the data to X and y\n",
    "\n",
    "X = Final_Dataset[[\"number_of_deaths\", \"Lifetime risk of maternal death (%)\"]]\n",
    "y = Final_Dataset[\"Year\"].values.reshape(-1, 1)\n",
    "print(X.shape, y.shape)"
   ]
  },
  {
   "cell_type": "code",
   "execution_count": 24,
   "metadata": {},
   "outputs": [],
   "source": [
    "# Use train_test_split to create training and testing data\n",
    "\n",
    "from sklearn.model_selection import train_test_split\n",
    "X_train, X_test, y_train, y_test = train_test_split(X, y, random_state=42)"
   ]
  },
  {
   "cell_type": "code",
   "execution_count": 25,
   "metadata": {},
   "outputs": [],
   "source": [
    "# Create the model using LinearRegression\n",
    "\n",
    "from sklearn.linear_model import LinearRegression\n",
    "model = LinearRegression()"
   ]
  },
  {
   "cell_type": "code",
   "execution_count": 26,
   "metadata": {},
   "outputs": [
    {
     "name": "stdout",
     "output_type": "stream",
     "text": [
      "Training Score: 0.06983028588206597\n",
      "Testing Score: 0.01227000999033323\n"
     ]
    }
   ],
   "source": [
    "# Fit the model to the training data and calculate the scores for the training and testing data\n",
    "\n",
    "model.fit(X_train, y_train)\n",
    "training_score = model.score(X_train, y_train)\n",
    "testing_score = model.score(X_test, y_test)\n",
    "\n",
    "print(f\"Training Score: {training_score}\")\n",
    "print(f\"Testing Score: {testing_score}\")"
   ]
  },
  {
   "cell_type": "code",
   "execution_count": 27,
   "metadata": {},
   "outputs": [
    {
     "data": {
      "text/plain": [
       "Text(0.5, 1.0, 'Residual Plot')"
      ]
     },
     "execution_count": 27,
     "metadata": {},
     "output_type": "execute_result"
    },
    {
     "data": {
      "image/png": "[encoded data removed]",
      "text/plain": [
       "<Figure size 432x288 with 1 Axes>"
      ]
     },
     "metadata": {
      "needs_background": "light"
     },
     "output_type": "display_data"
    }
   ],
   "source": [
    "# Plot the Residuals for the Training and Testing data\n",
    "\n",
    "### BEGIN SOLUTION\n",
    "plt.scatter(model.predict(X_train), model.predict(X_train) - y_train, c=\"blue\", label=\"Training Data\")\n",
    "plt.scatter(model.predict(X_test), model.predict(X_test) - y_test, c=\"orange\", label=\"Testing Data\")\n",
    "plt.legend()\n",
    "plt.hlines(y=0, xmin=y.min(), xmax=y.max())\n",
    "plt.title(\"Residual Plot\")\n",
    "### END SOLUTION"
   ]
  },
  {
   "cell_type": "code",
   "execution_count": 28,
   "metadata": {},
   "outputs": [
    {
     "data": {
      "image/png": "[encoded data removed]",
      "text/plain": [
       "<Figure size 432x288 with 1 Axes>"
      ]
     },
     "metadata": {
      "needs_background": "light"
     },
     "output_type": "display_data"
    }
   ],
   "source": [
    "predictions = model.predict(X)\n",
    "# Plot Residuals\n",
    "plt.scatter(predictions, predictions - y)\n",
    "plt.hlines(y=0, xmin=predictions.min(), xmax=predictions.max())\n",
    "plt.show()"
   ]
  },
  {
   "cell_type": "code",
   "execution_count": null,
   "metadata": {},
   "outputs": [],
   "source": []
  },
  {
   "cell_type": "code",
   "execution_count": null,
   "metadata": {},
   "outputs": [],
   "source": []
  }
 ],
 "metadata": {
  "kernelspec": {
   "display_name": "Python 3",
   "language": "python",
   "name": "python3"
  },
  "language_info": {
   "codemirror_mode": {
    "name": "ipython",
    "version": 3
   },
   "file_extension": ".py",
   "mimetype": "text/x-python",
   "name": "python",
   "nbconvert_exporter": "python",
   "pygments_lexer": "ipython3",
   "version": "3.6.8"
  }
 },
 "nbformat": 4,
 "nbformat_minor": 2
}
