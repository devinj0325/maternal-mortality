{
 "cells": [
  {
   "cell_type": "code",
   "execution_count": 1,
   "metadata": {},
   "outputs": [],
   "source": [
    "# Import dependencies\n",
    "from sklearn.datasets import make_classification\n",
    "import matplotlib.pyplot as plt\n",
    "from sklearn.metrics import mean_squared_error, r2_score\n",
    "import numpy as np\n",
    "import pandas as pd\n",
    "import os"
   ]
  },
  {
   "cell_type": "code",
   "execution_count": 2,
   "metadata": {},
   "outputs": [
    {
     "data": {
      "text/html": [
       "<div>\n",
       "<style scoped>\n",
       "    .dataframe tbody tr th:only-of-type {\n",
       "        vertical-align: middle;\n",
       "    }\n",
       "\n",
       "    .dataframe tbody tr th {\n",
       "        vertical-align: top;\n",
       "    }\n",
       "\n",
       "    .dataframe thead th {\n",
       "        text-align: right;\n",
       "    }\n",
       "</style>\n",
       "<table border=\"1\" class=\"dataframe\">\n",
       "  <thead>\n",
       "    <tr style=\"text-align: right;\">\n",
       "      <th></th>\n",
       "      <th>region</th>\n",
       "      <th>year</th>\n",
       "      <th>lifetime_risk</th>\n",
       "      <th>mortality_ratio</th>\n",
       "      <th>private_expenditure</th>\n",
       "      <th>government_expenditure</th>\n",
       "      <th>gdp_capita</th>\n",
       "    </tr>\n",
       "  </thead>\n",
       "  <tbody>\n",
       "    <tr>\n",
       "      <th>0</th>\n",
       "      <td>East Asia &amp; Pacific</td>\n",
       "      <td>2000</td>\n",
       "      <td>0.21</td>\n",
       "      <td>113</td>\n",
       "      <td>29.52</td>\n",
       "      <td>4.34</td>\n",
       "      <td>7178.89</td>\n",
       "    </tr>\n",
       "    <tr>\n",
       "      <th>1</th>\n",
       "      <td>Europe &amp; Central Asia</td>\n",
       "      <td>2000</td>\n",
       "      <td>0.05</td>\n",
       "      <td>33</td>\n",
       "      <td>24.49</td>\n",
       "      <td>5.88</td>\n",
       "      <td>22220.70</td>\n",
       "    </tr>\n",
       "    <tr>\n",
       "      <th>2</th>\n",
       "      <td>Latin America &amp; Caribbean</td>\n",
       "      <td>2000</td>\n",
       "      <td>0.29</td>\n",
       "      <td>99</td>\n",
       "      <td>56.91</td>\n",
       "      <td>2.53</td>\n",
       "      <td>11458.67</td>\n",
       "    </tr>\n",
       "    <tr>\n",
       "      <th>3</th>\n",
       "      <td>Middle East &amp; North Africa</td>\n",
       "      <td>2000</td>\n",
       "      <td>0.38</td>\n",
       "      <td>113</td>\n",
       "      <td>44.46</td>\n",
       "      <td>2.48</td>\n",
       "      <td>13554.73</td>\n",
       "    </tr>\n",
       "    <tr>\n",
       "      <th>4</th>\n",
       "      <td>North America</td>\n",
       "      <td>2000</td>\n",
       "      <td>0.02</td>\n",
       "      <td>12</td>\n",
       "      <td>54.50</td>\n",
       "      <td>5.56</td>\n",
       "      <td>45146.13</td>\n",
       "    </tr>\n",
       "  </tbody>\n",
       "</table>\n",
       "</div>"
      ],
      "text/plain": [
       "                       region  year  lifetime_risk  mortality_ratio  \\\n",
       "0         East Asia & Pacific  2000           0.21              113   \n",
       "1       Europe & Central Asia  2000           0.05               33   \n",
       "2   Latin America & Caribbean  2000           0.29               99   \n",
       "3  Middle East & North Africa  2000           0.38              113   \n",
       "4               North America  2000           0.02               12   \n",
       "\n",
       "   private_expenditure  government_expenditure  gdp_capita  \n",
       "0                29.52                    4.34     7178.89  \n",
       "1                24.49                    5.88    22220.70  \n",
       "2                56.91                    2.53    11458.67  \n",
       "3                44.46                    2.48    13554.73  \n",
       "4                54.50                    5.56    45146.13  "
      ]
     },
     "execution_count": 2,
     "metadata": {},
     "output_type": "execute_result"
    }
   ],
   "source": [
    "# Read the CSV into a Pandas DataFrame\n",
    "dataset = pd.read_csv('Final_Dataset.csv')\n",
    "dataset.head()"
   ]
  },
  {
   "cell_type": "code",
   "execution_count": 3,
   "metadata": {},
   "outputs": [
    {
     "data": {
      "text/html": [
       "<div>\n",
       "<style scoped>\n",
       "    .dataframe tbody tr th:only-of-type {\n",
       "        vertical-align: middle;\n",
       "    }\n",
       "\n",
       "    .dataframe tbody tr th {\n",
       "        vertical-align: top;\n",
       "    }\n",
       "\n",
       "    .dataframe thead th {\n",
       "        text-align: right;\n",
       "    }\n",
       "</style>\n",
       "<table border=\"1\" class=\"dataframe\">\n",
       "  <thead>\n",
       "    <tr style=\"text-align: right;\">\n",
       "      <th></th>\n",
       "      <th>region</th>\n",
       "      <th>year</th>\n",
       "      <th>lifetime_risk</th>\n",
       "      <th>mortality_ratio</th>\n",
       "      <th>private_expenditure</th>\n",
       "      <th>government_expenditure</th>\n",
       "      <th>gdp_capita</th>\n",
       "    </tr>\n",
       "  </thead>\n",
       "  <tbody>\n",
       "    <tr>\n",
       "      <th>5</th>\n",
       "      <td>South Asia</td>\n",
       "      <td>2000</td>\n",
       "      <td>1.45</td>\n",
       "      <td>388</td>\n",
       "      <td>73.61</td>\n",
       "      <td>0.87</td>\n",
       "      <td>2520.24</td>\n",
       "    </tr>\n",
       "    <tr>\n",
       "      <th>12</th>\n",
       "      <td>South Asia</td>\n",
       "      <td>2001</td>\n",
       "      <td>1.35</td>\n",
       "      <td>369</td>\n",
       "      <td>75.80</td>\n",
       "      <td>0.83</td>\n",
       "      <td>2579.88</td>\n",
       "    </tr>\n",
       "    <tr>\n",
       "      <th>19</th>\n",
       "      <td>South Asia</td>\n",
       "      <td>2002</td>\n",
       "      <td>1.25</td>\n",
       "      <td>350</td>\n",
       "      <td>75.69</td>\n",
       "      <td>0.82</td>\n",
       "      <td>2627.92</td>\n",
       "    </tr>\n",
       "    <tr>\n",
       "      <th>26</th>\n",
       "      <td>South Asia</td>\n",
       "      <td>2003</td>\n",
       "      <td>1.16</td>\n",
       "      <td>331</td>\n",
       "      <td>77.08</td>\n",
       "      <td>0.75</td>\n",
       "      <td>2767.64</td>\n",
       "    </tr>\n",
       "    <tr>\n",
       "      <th>33</th>\n",
       "      <td>South Asia</td>\n",
       "      <td>2004</td>\n",
       "      <td>1.07</td>\n",
       "      <td>314</td>\n",
       "      <td>77.21</td>\n",
       "      <td>0.73</td>\n",
       "      <td>2926.16</td>\n",
       "    </tr>\n",
       "  </tbody>\n",
       "</table>\n",
       "</div>"
      ],
      "text/plain": [
       "        region  year  lifetime_risk  mortality_ratio  private_expenditure  \\\n",
       "5   South Asia  2000           1.45              388                73.61   \n",
       "12  South Asia  2001           1.35              369                75.80   \n",
       "19  South Asia  2002           1.25              350                75.69   \n",
       "26  South Asia  2003           1.16              331                77.08   \n",
       "33  South Asia  2004           1.07              314                77.21   \n",
       "\n",
       "    government_expenditure  gdp_capita  \n",
       "5                     0.87     2520.24  \n",
       "12                    0.83     2579.88  \n",
       "19                    0.82     2627.92  \n",
       "26                    0.75     2767.64  \n",
       "33                    0.73     2926.16  "
      ]
     },
     "execution_count": 3,
     "metadata": {},
     "output_type": "execute_result"
    }
   ],
   "source": [
    "#Refine DataFrame to only have South Asian data\n",
    "s_asia = dataset.loc[dataset['region'] == 'South Asia']\n",
    "s_asia.head()"
   ]
  },
  {
   "cell_type": "code",
   "execution_count": 4,
   "metadata": {},
   "outputs": [
    {
     "data": {
      "text/html": [
       "<div>\n",
       "<style scoped>\n",
       "    .dataframe tbody tr th:only-of-type {\n",
       "        vertical-align: middle;\n",
       "    }\n",
       "\n",
       "    .dataframe tbody tr th {\n",
       "        vertical-align: top;\n",
       "    }\n",
       "\n",
       "    .dataframe thead th {\n",
       "        text-align: right;\n",
       "    }\n",
       "</style>\n",
       "<table border=\"1\" class=\"dataframe\">\n",
       "  <thead>\n",
       "    <tr style=\"text-align: right;\">\n",
       "      <th></th>\n",
       "      <th>region</th>\n",
       "      <th>year</th>\n",
       "      <th>lifetime_risk</th>\n",
       "      <th>mortality_ratio</th>\n",
       "      <th>private_expenditure</th>\n",
       "      <th>government_expenditure</th>\n",
       "      <th>gdp_capita</th>\n",
       "    </tr>\n",
       "  </thead>\n",
       "  <tbody>\n",
       "    <tr>\n",
       "      <th>5</th>\n",
       "      <td>South Asia</td>\n",
       "      <td>2000</td>\n",
       "      <td>1.45</td>\n",
       "      <td>388</td>\n",
       "      <td>73.61</td>\n",
       "      <td>0.87</td>\n",
       "      <td>2520.24</td>\n",
       "    </tr>\n",
       "    <tr>\n",
       "      <th>12</th>\n",
       "      <td>South Asia</td>\n",
       "      <td>2001</td>\n",
       "      <td>1.35</td>\n",
       "      <td>369</td>\n",
       "      <td>75.80</td>\n",
       "      <td>0.83</td>\n",
       "      <td>2579.88</td>\n",
       "    </tr>\n",
       "    <tr>\n",
       "      <th>19</th>\n",
       "      <td>South Asia</td>\n",
       "      <td>2002</td>\n",
       "      <td>1.25</td>\n",
       "      <td>350</td>\n",
       "      <td>75.69</td>\n",
       "      <td>0.82</td>\n",
       "      <td>2627.92</td>\n",
       "    </tr>\n",
       "    <tr>\n",
       "      <th>26</th>\n",
       "      <td>South Asia</td>\n",
       "      <td>2003</td>\n",
       "      <td>1.16</td>\n",
       "      <td>331</td>\n",
       "      <td>77.08</td>\n",
       "      <td>0.75</td>\n",
       "      <td>2767.64</td>\n",
       "    </tr>\n",
       "    <tr>\n",
       "      <th>33</th>\n",
       "      <td>South Asia</td>\n",
       "      <td>2004</td>\n",
       "      <td>1.07</td>\n",
       "      <td>314</td>\n",
       "      <td>77.21</td>\n",
       "      <td>0.73</td>\n",
       "      <td>2926.16</td>\n",
       "    </tr>\n",
       "    <tr>\n",
       "      <th>40</th>\n",
       "      <td>South Asia</td>\n",
       "      <td>2005</td>\n",
       "      <td>0.99</td>\n",
       "      <td>296</td>\n",
       "      <td>76.35</td>\n",
       "      <td>0.76</td>\n",
       "      <td>3130.57</td>\n",
       "    </tr>\n",
       "    <tr>\n",
       "      <th>47</th>\n",
       "      <td>South Asia</td>\n",
       "      <td>2006</td>\n",
       "      <td>0.92</td>\n",
       "      <td>281</td>\n",
       "      <td>76.60</td>\n",
       "      <td>0.74</td>\n",
       "      <td>3346.11</td>\n",
       "    </tr>\n",
       "    <tr>\n",
       "      <th>54</th>\n",
       "      <td>South Asia</td>\n",
       "      <td>2007</td>\n",
       "      <td>0.85</td>\n",
       "      <td>265</td>\n",
       "      <td>76.03</td>\n",
       "      <td>0.75</td>\n",
       "      <td>3588.23</td>\n",
       "    </tr>\n",
       "    <tr>\n",
       "      <th>61</th>\n",
       "      <td>South Asia</td>\n",
       "      <td>2008</td>\n",
       "      <td>0.79</td>\n",
       "      <td>252</td>\n",
       "      <td>74.37</td>\n",
       "      <td>0.78</td>\n",
       "      <td>3669.83</td>\n",
       "    </tr>\n",
       "    <tr>\n",
       "      <th>68</th>\n",
       "      <td>South Asia</td>\n",
       "      <td>2009</td>\n",
       "      <td>0.74</td>\n",
       "      <td>239</td>\n",
       "      <td>72.51</td>\n",
       "      <td>0.86</td>\n",
       "      <td>3887.94</td>\n",
       "    </tr>\n",
       "  </tbody>\n",
       "</table>\n",
       "</div>"
      ],
      "text/plain": [
       "        region  year  lifetime_risk  mortality_ratio  private_expenditure  \\\n",
       "5   South Asia  2000           1.45              388                73.61   \n",
       "12  South Asia  2001           1.35              369                75.80   \n",
       "19  South Asia  2002           1.25              350                75.69   \n",
       "26  South Asia  2003           1.16              331                77.08   \n",
       "33  South Asia  2004           1.07              314                77.21   \n",
       "40  South Asia  2005           0.99              296                76.35   \n",
       "47  South Asia  2006           0.92              281                76.60   \n",
       "54  South Asia  2007           0.85              265                76.03   \n",
       "61  South Asia  2008           0.79              252                74.37   \n",
       "68  South Asia  2009           0.74              239                72.51   \n",
       "\n",
       "    government_expenditure  gdp_capita  \n",
       "5                     0.87     2520.24  \n",
       "12                    0.83     2579.88  \n",
       "19                    0.82     2627.92  \n",
       "26                    0.75     2767.64  \n",
       "33                    0.73     2926.16  \n",
       "40                    0.76     3130.57  \n",
       "47                    0.74     3346.11  \n",
       "54                    0.75     3588.23  \n",
       "61                    0.78     3669.83  \n",
       "68                    0.86     3887.94  "
      ]
     },
     "execution_count": 4,
     "metadata": {},
     "output_type": "execute_result"
    }
   ],
   "source": [
    "# Use Pandas get_dummies to convert categorical data\n",
    "region = pd.get_dummies(s_asia)\n",
    "s_asia.head(10)"
   ]
  },
  {
   "cell_type": "code",
   "execution_count": 5,
   "metadata": {},
   "outputs": [],
   "source": [
    "# Set x and y\n",
    "X = region.drop(\"mortality_ratio\", axis=1)\n",
    "y = region[(\"mortality_ratio\")]"
   ]
  },
  {
   "cell_type": "code",
   "execution_count": 6,
   "metadata": {},
   "outputs": [],
   "source": [
    "# Split between train and test\n",
    "from sklearn.model_selection import train_test_split"
   ]
  },
  {
   "cell_type": "code",
   "execution_count": 7,
   "metadata": {},
   "outputs": [],
   "source": [
    "# Can I use historical data to predict recent data (and potentially future data?)\n",
    "X_train = region[region['year'] < 2010].drop(\"mortality_ratio\", axis=1)\n",
    "y_train = region[region['year'] < 2010]['mortality_ratio']\n",
    "X_test = region[region['year'] >= 2010].drop(\"mortality_ratio\", axis=1)\n",
    "y_test = region[region['year'] >= 2010]['mortality_ratio']"
   ]
  },
  {
   "cell_type": "code",
   "execution_count": 8,
   "metadata": {},
   "outputs": [
    {
     "data": {
      "text/html": [
       "<div>\n",
       "<style scoped>\n",
       "    .dataframe tbody tr th:only-of-type {\n",
       "        vertical-align: middle;\n",
       "    }\n",
       "\n",
       "    .dataframe tbody tr th {\n",
       "        vertical-align: top;\n",
       "    }\n",
       "\n",
       "    .dataframe thead th {\n",
       "        text-align: right;\n",
       "    }\n",
       "</style>\n",
       "<table border=\"1\" class=\"dataframe\">\n",
       "  <thead>\n",
       "    <tr style=\"text-align: right;\">\n",
       "      <th></th>\n",
       "      <th>year</th>\n",
       "      <th>lifetime_risk</th>\n",
       "      <th>private_expenditure</th>\n",
       "      <th>government_expenditure</th>\n",
       "      <th>gdp_capita</th>\n",
       "      <th>region_South Asia</th>\n",
       "    </tr>\n",
       "  </thead>\n",
       "  <tbody>\n",
       "    <tr>\n",
       "      <th>75</th>\n",
       "      <td>2010</td>\n",
       "      <td>0.69</td>\n",
       "      <td>72.16</td>\n",
       "      <td>0.84</td>\n",
       "      <td>4173.31</td>\n",
       "      <td>1</td>\n",
       "    </tr>\n",
       "    <tr>\n",
       "      <th>82</th>\n",
       "      <td>2011</td>\n",
       "      <td>0.64</td>\n",
       "      <td>69.77</td>\n",
       "      <td>0.90</td>\n",
       "      <td>4371.64</td>\n",
       "      <td>1</td>\n",
       "    </tr>\n",
       "    <tr>\n",
       "      <th>89</th>\n",
       "      <td>2012</td>\n",
       "      <td>0.60</td>\n",
       "      <td>70.25</td>\n",
       "      <td>0.90</td>\n",
       "      <td>4547.65</td>\n",
       "      <td>1</td>\n",
       "    </tr>\n",
       "    <tr>\n",
       "      <th>96</th>\n",
       "      <td>2013</td>\n",
       "      <td>0.56</td>\n",
       "      <td>74.78</td>\n",
       "      <td>0.86</td>\n",
       "      <td>4758.14</td>\n",
       "      <td>1</td>\n",
       "    </tr>\n",
       "    <tr>\n",
       "      <th>103</th>\n",
       "      <td>2014</td>\n",
       "      <td>0.53</td>\n",
       "      <td>73.96</td>\n",
       "      <td>0.84</td>\n",
       "      <td>5022.28</td>\n",
       "      <td>1</td>\n",
       "    </tr>\n",
       "  </tbody>\n",
       "</table>\n",
       "</div>"
      ],
      "text/plain": [
       "     year  lifetime_risk  private_expenditure  government_expenditure  \\\n",
       "75   2010           0.69                72.16                    0.84   \n",
       "82   2011           0.64                69.77                    0.90   \n",
       "89   2012           0.60                70.25                    0.90   \n",
       "96   2013           0.56                74.78                    0.86   \n",
       "103  2014           0.53                73.96                    0.84   \n",
       "\n",
       "     gdp_capita  region_South Asia  \n",
       "75      4173.31                  1  \n",
       "82      4371.64                  1  \n",
       "89      4547.65                  1  \n",
       "96      4758.14                  1  \n",
       "103     5022.28                  1  "
      ]
     },
     "execution_count": 8,
     "metadata": {},
     "output_type": "execute_result"
    }
   ],
   "source": [
    "X_test.head()"
   ]
  },
  {
   "cell_type": "code",
   "execution_count": 9,
   "metadata": {},
   "outputs": [],
   "source": [
    "# Run Linear Regression model\n",
    "from sklearn.linear_model import LinearRegression\n",
    "model = LinearRegression()"
   ]
  },
  {
   "cell_type": "code",
   "execution_count": 10,
   "metadata": {},
   "outputs": [
    {
     "data": {
      "text/plain": [
       "LinearRegression(copy_X=True, fit_intercept=True, n_jobs=None, normalize=False)"
      ]
     },
     "execution_count": 10,
     "metadata": {},
     "output_type": "execute_result"
    }
   ],
   "source": [
    "# Fit the model\n",
    "model.fit(X_train, y_train)"
   ]
  },
  {
   "cell_type": "code",
   "execution_count": 11,
   "metadata": {},
   "outputs": [
    {
     "name": "stdout",
     "output_type": "stream",
     "text": [
      "Weight coefficients:  [-3.48781047e+00  1.53815690e+02 -6.40578460e-02 -3.89766318e+00\n",
      " -6.19859737e-03  0.00000000e+00]\n",
      "y-axis intercept:  7164.389366935581\n"
     ]
    }
   ],
   "source": [
    "# Print the coefficient and the intercept for the model\n",
    "print('Weight coefficients: ', model.coef_)\n",
    "print('y-axis intercept: ', model.intercept_)"
   ]
  },
  {
   "cell_type": "code",
   "execution_count": 21,
   "metadata": {},
   "outputs": [
    {
     "name": "stdout",
     "output_type": "stream",
     "text": [
      "Mean Squared Error (MSE): 37.40286205753507\n",
      "R-squared (R2): 0.8535932332204781\n"
     ]
    }
   ],
   "source": [
    "# Calculate the model.predict\n",
    "predicted = model.predict(X_test)\n",
    "\n",
    "mse = mean_squared_error(y_test, predicted)\n",
    "r2 = r2_score(y_test, predicted)\n",
    "\n",
    "print(f\"Mean Squared Error (MSE): {mse}\")\n",
    "print(f\"R-squared (R2): {r2}\")"
   ]
  },
  {
   "cell_type": "code",
   "execution_count": 13,
   "metadata": {},
   "outputs": [],
   "source": [
    "# Calculate the model.predict\n",
    "\n",
    "predictions_test = model.predict(X_test)\n",
    "#predictions_train = model.predict(X_train)\n"
   ]
  },
  {
   "cell_type": "code",
   "execution_count": 16,
   "metadata": {
    "scrolled": false
   },
   "outputs": [
    {
     "name": "stdout",
     "output_type": "stream",
     "text": [
      "R-squared (R2) Train: 0.9999526851447225\n",
      "R-squared (R2) Test: 0.8535932332204781\n"
     ]
    }
   ],
   "source": [
    "# Calculate the model.score (R squared)\n",
    "training_score = model.score(X_train, y_train)\n",
    "testing_score = model.score(X_test, y_test)\n",
    "\n",
    "print(f\"R-squared (R2) Train: {training_score}\")\n",
    "print(f\"R-squared (R2) Test: {testing_score}\")"
   ]
  },
  {
   "cell_type": "code",
   "execution_count": 19,
   "metadata": {},
   "outputs": [
    {
     "name": "stdout",
     "output_type": "stream",
     "text": [
      "Mean Squared Error (MSE) Test: 37.40286205753507\n"
     ]
    }
   ],
   "source": [
    "# Run mean scored error\n",
    "#mse_train = mean_squared_error(y_train, predictions_train)\n",
    "mse_test = mean_squared_error(y_test, predictions_test)\n",
    "\n",
    "#print(f\"Mean Squared Error (MSE) Train: {mse_train}\")\n",
    "print(f\"Mean Squared Error (MSE) Test: {mse_test}\")\n"
   ]
  },
  {
   "cell_type": "code",
   "execution_count": null,
   "metadata": {},
   "outputs": [],
   "source": []
  }
 ],
 "metadata": {
  "kernelspec": {
   "display_name": "Python 3",
   "language": "python",
   "name": "python3"
  },
  "language_info": {
   "codemirror_mode": {
    "name": "ipython",
    "version": 3
   },
   "file_extension": ".py",
   "mimetype": "text/x-python",
   "name": "python",
   "nbconvert_exporter": "python",
   "pygments_lexer": "ipython3",
   "version": "3.7.4"
  }
 },
 "nbformat": 4,
 "nbformat_minor": 2
}
